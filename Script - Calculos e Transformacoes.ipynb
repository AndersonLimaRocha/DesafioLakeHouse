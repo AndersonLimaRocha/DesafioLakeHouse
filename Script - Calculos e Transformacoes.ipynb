{
 "cells": [
  {
   "cell_type": "code",
   "execution_count": 15,
   "metadata": {},
   "outputs": [],
   "source": [
    "from pyspark.sql import SparkSession\n",
    "from pyspark.sql.functions import sum, col, count, date_format\n",
    "import os\n",
    "from email.mime.multipart import MIMEMultipart\n",
    "from email.mime.text import MIMEText\n",
    "import smtplib"
   ]
  },
  {
   "cell_type": "code",
   "execution_count": 16,
   "metadata": {},
   "outputs": [],
   "source": [
    "\n",
    "# Função para enviar e-mail com os logs\n",
    "def send_email(subject, body, recipient_email, sender_email, sender_password, smtp_server, smtp_port):\n",
    "    \"\"\"\n",
    "    Envia um e-mail com o corpo e o assunto especificados.\n",
    "\n",
    "    :param subject: Assunto do e-mail.\n",
    "    :param body: Corpo do e-mail (texto).\n",
    "    :param recipient_email: E-mail do destinatário.\n",
    "    :param sender_email: E-mail do remetente (precisa de autenticação).\n",
    "    :param sender_password: Senha do remetente (ou senha de aplicativo).\n",
    "    :param smtp_server: Servidor SMTP.\n",
    "    :param smtp_port: Porta SMTP.\n",
    "    \"\"\"\n",
    "    try:\n",
    "        # Criação da mensagem de e-mail\n",
    "        msg = MIMEMultipart()\n",
    "        msg['From'] = sender_email\n",
    "        msg['To'] = recipient_email\n",
    "        msg['Subject'] = subject\n",
    "        msg.attach(MIMEText(body, 'plain'))\n",
    "\n",
    "        # Conectar ao servidor SMTP\n",
    "        server = smtplib.SMTP(smtp_server, smtp_port)\n",
    "        server.starttls()  # Ativar criptografia TLS\n",
    "        server.login(sender_email, sender_password)  # Autenticar\n",
    "\n",
    "        # Enviar o e-mail\n",
    "        server.sendmail(sender_email, recipient_email, msg.as_string())\n",
    "        server.quit()\n",
    "        print(\"E-mail enviado com sucesso.\")\n",
    "        \n",
    "    except Exception as e:\n",
    "        print(f\"Falha ao enviar e-mail: {e}\")"
   ]
  },
  {
   "cell_type": "code",
   "execution_count": 17,
   "metadata": {},
   "outputs": [],
   "source": [
    "# 1. Calcular o total de transações por condomínio\n",
    "def calcular_total_transacoes_por_condominio(silverzonepath):\n",
    "    # Executa o Join entre imóveis e condominios\n",
    "    df_cond_trans = df_transacoes.join(df_imoveis, df_transacoes.imovel_id == df_imoveis.imovel_id)\\\n",
    "                                 .join(df_condominios,['condominio_id'])\n",
    "    # Calcula a quantidade\n",
    "    total_transacoes_condominio = df_cond_trans.groupBy(\"condominio_id\").agg(count(\"*\").alias(\"total_transacoes\"))\n",
    "    #total_transacoes_condominio.show()\n",
    "    \n",
    "    # Salvar em Parquet\n",
    "    total_transacoes_condominio.write.mode(\"overwrite\").parquet(os.path.join(silverzonepath, 'total_transacoes_condominio.parquet'))\n",
    "\n"
   ]
  },
  {
   "cell_type": "code",
   "execution_count": 18,
   "metadata": {},
   "outputs": [],
   "source": [
    "# 2. Calcular o valor total das transações por morador\n",
    "def calcular_valor_total_transacoes_por_morador(silverzonepath):\n",
    "    valor_total_morador = df_transacoes.groupBy(\"morador_id\").agg(sum(\"valor_transacao\").alias(\"valor_total_transacoes\"))\n",
    "    #valor_total_morador.show()\n",
    "    \n",
    "    # Salvar em Parquet\n",
    "    valor_total_morador.write.mode(\"overwrite\").parquet(os.path.join(silverzonepath, 'valor_total_transacoes_morador.parquet'))\n",
    "\n"
   ]
  },
  {
   "cell_type": "code",
   "execution_count": 19,
   "metadata": {},
   "outputs": [],
   "source": [
    "# 3. Agregar as transações diárias por tipo de imóvel\n",
    "def agregar_transacoes_diarias_por_tipo_imovel(silverzonepath):\n",
    "    transacoes_diarias_imovel = df_transacoes \\\n",
    "                               .join(df_imoveis, df_transacoes[\"imovel_id\"] == df_imoveis[\"imovel_id\"]) \\\n",
    "                               .groupBy(date_format(\"data_transacao\", \"yyyy-MM-dd\").alias(\"data\"), \"tipo\") \\\n",
    "                               .agg(count(\"*\").alias(\"total_transacoes_diarias\"))\n",
    "    \n",
    "    #transacoes_diarias_imovel.show()\n",
    "    \n",
    "    # Salvar em Parquet\n",
    "    transacoes_diarias_imovel.write.mode(\"overwrite\").parquet(os.path.join(silverzonepath, 'transacoes_diarias_imovel.parquet'))"
   ]
  },
  {
   "cell_type": "code",
   "execution_count": 20,
   "metadata": {},
   "outputs": [],
   "source": [
    "# Função principal para rodar todas as transformações\n",
    "def run_transformacoes(silverzonepath,subject, body, recipient_email, sender_email, sender_password,smtp_server, smtp_port ):\n",
    "    calcular_total_transacoes_por_condominio(silverzonepath)\n",
    "    calcular_valor_total_transacoes_por_morador(silverzonepath)\n",
    "    agregar_transacoes_diarias_por_tipo_imovel(silverzonepath)\n",
    "\n",
    "    send_email(subject, body, recipient_email, sender_email, sender_password, smtp_server, smtp_port)"
   ]
  },
  {
   "cell_type": "code",
   "execution_count": 21,
   "metadata": {},
   "outputs": [
    {
     "name": "stderr",
     "output_type": "stream",
     "text": [
      "24/09/08 17:23:40 WARN Utils: Service 'SparkUI' could not bind on port 4040. Attempting port 4041.\n"
     ]
    },
    {
     "name": "stdout",
     "output_type": "stream",
     "text": [
      "E-mail enviado com sucesso.\n"
     ]
    }
   ],
   "source": [
    "# Informações de e-mail\n",
    "recipient_email = \"andersonlimarocha@gmail.com\"\n",
    "sender_email = \"and.al@hotmail.com\"\n",
    "sender_password = 'Nov@S&nh@2024' \n",
    "subject = \"Logs do Processo de Calculo e Transformação\"\n",
    "body = f\"Aqui estão os logs do processo de extração e validação:\"\n",
    "smtp_server = \"smtp-mail.outlook.com\"\n",
    "smtp_port = '587'\n",
    "\n",
    "# Inicializa a sessão Spark\n",
    "spark = SparkSession.builder.appName(\"Desafio Superlogica - Calculos e Transformacoes\").getOrCreate()\n",
    "\n",
    "# Caminho Origem dos arquivos da camada Bronze do Data Lake\n",
    "data_lake_path = \"/Users/familialima/Desktop/Desafio SuperLogica/DataLakePath/BonzeZone/Inputs\"\n",
    "\n",
    "silverzone = \"/Users/familialima/Desktop/Desafio SuperLogica/DataLakePath/SilverZone/Outputs/\"\n",
    "\n",
    "# Carregar as tabelas necessárias (Assumindo que os dados já estão em Parquet no Data Lake)\n",
    "df_transacoes = spark.read.parquet(os.path.join(data_lake_path, 'transacoes.parquet'))\n",
    "df_condominios = spark.read.parquet(os.path.join(data_lake_path, 'condominios.parquet'))\n",
    "df_moradores = spark.read.parquet(os.path.join(data_lake_path, 'moradores.parquet'))\n",
    "df_imoveis = spark.read.parquet(os.path.join(data_lake_path, 'imoveis.parquet'))\n",
    "\n",
    "\n",
    "# Executar o pipeline de transformações\n",
    "run_transformacoes(silverzone, subject, body, recipient_email, sender_email, sender_password,smtp_server, smtp_port )\n",
    "\n",
    "#Finalizar a sessão Spark\n",
    "spark.stop()"
   ]
  }
 ],
 "metadata": {
  "kernelspec": {
   "display_name": "desafiosuperlogica",
   "language": "python",
   "name": "python3"
  },
  "language_info": {
   "codemirror_mode": {
    "name": "ipython",
    "version": 3
   },
   "file_extension": ".py",
   "mimetype": "text/x-python",
   "name": "python",
   "nbconvert_exporter": "python",
   "pygments_lexer": "ipython3",
   "version": "3.10.6"
  }
 },
 "nbformat": 4,
 "nbformat_minor": 2
}
